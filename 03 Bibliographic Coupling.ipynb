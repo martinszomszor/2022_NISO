{
 "cells": [
  {
   "cell_type": "code",
   "execution_count": 2,
   "id": "66198aec-a6a0-4e7b-9af1-a2a0e8fb2986",
   "metadata": {},
   "outputs": [],
   "source": [
    "import pandas as pd\n",
    "import numpy as np\n",
    "import jsonlines\n",
    "import leidenalg\n",
    "import time\n",
    "from tqdm import tqdm\n",
    "from collections import defaultdict"
   ]
  },
  {
   "cell_type": "markdown",
   "id": "e9233e0c-4cb8-4e2c-9be8-7af2fbab0a3d",
   "metadata": {},
   "source": [
    "# Load Publication Data from jsonlines file"
   ]
  },
  {
   "cell_type": "code",
   "execution_count": 3,
   "id": "fdf473ff-1019-4a8d-b383-20a511714b68",
   "metadata": {},
   "outputs": [
    {
     "data": {
      "text/plain": [
       "12706"
      ]
     },
     "execution_count": 3,
     "metadata": {},
     "output_type": "execute_result"
    }
   ],
   "source": [
    "publications = []\n",
    "with jsonlines.open(\"./data/openalex_publications.jsonl\") as f_in:\n",
    "    for pub in f_in:\n",
    "        publications.append(pub)\n",
    "num_docs = len(publications)\n",
    "num_docs"
   ]
  },
  {
   "cell_type": "markdown",
   "id": "252d7879-d40b-4fdf-8266-abdc37eb43f9",
   "metadata": {},
   "source": [
    "# Bibliographic Coupling\n",
    "\n",
    "Create a network were publications that cite the same papers are connected"
   ]
  },
  {
   "cell_type": "markdown",
   "id": "1a157a8a-3dc2-4b1b-b64a-a4269cf0a52f",
   "metadata": {},
   "source": [
    "Extract cited works from JSON data. Keep a count of the number of references in each publication."
   ]
  },
  {
   "cell_type": "code",
   "execution_count": 4,
   "id": "e89e8769-53dd-478d-9bae-ddabd2f2023a",
   "metadata": {},
   "outputs": [
    {
     "data": {
      "text/plain": [
       "67113"
      ]
     },
     "execution_count": 4,
     "metadata": {},
     "output_type": "execute_result"
    }
   ],
   "source": [
    "cited_works = set()\n",
    "cited_works_count = {}\n",
    "for i, pub in enumerate(publications):\n",
    "    cited_works_count[i] = len(pub.get('referenced_works'))\n",
    "    for cited_work in pub['referenced_works']:\n",
    "        cited_works.add(cited_work)\n",
    "len(cited_works)"
   ]
  },
  {
   "cell_type": "markdown",
   "id": "55a275cd-9591-4079-95ea-ac8879c317cd",
   "metadata": {},
   "source": [
    "Plot the distribution of reference counts."
   ]
  },
  {
   "cell_type": "code",
   "execution_count": 25,
   "id": "05efa95c-4b15-4631-b42a-bead2b05acfe",
   "metadata": {},
   "outputs": [
    {
     "data": {
      "image/png": "[encoded data removed]",
      "text/plain": [
       "<Figure size 720x432 with 1 Axes>"
      ]
     },
     "metadata": {
      "needs_background": "light"
     },
     "output_type": "display_data"
    }
   ],
   "source": [
    "import matplotlib.pyplot as plt\n",
    "import matplotlib as mpl\n",
    "mpl.rcParams['font.size'] = 16\n",
    "\n",
    "fig, ax = plt.subplots(figsize=(10,6))\n",
    "ax.hist(cited_works_count.values(), bins=np.arange(0,25,1))\n",
    "ax.set_xlabel(\"Number of referenced works\")\n",
    "ax.set_ylabel(\"Number of publications\")\n",
    "plt.show()"
   ]
  },
  {
   "cell_type": "markdown",
   "id": "384cad85-8f5b-4c7b-ab5f-b5aba1cfb688",
   "metadata": {},
   "source": [
    "From this we can see that many publications are not linked to any cited references (~7,000). In this case, we should expect to filter out some publications"
   ]
  },
  {
   "cell_type": "markdown",
   "id": "8d948cc2-8621-4494-8893-b93e2c568210",
   "metadata": {},
   "source": [
    "Our reference matrix will consist of rows (publications) and columns (cited works). Values of 1 denote a reference from publication to cited work.\n",
    "\n",
    "We first create an index mapping cited work urls to column numbers"
   ]
  },
  {
   "cell_type": "code",
   "execution_count": 7,
   "id": "0703f594-7a1e-4b8b-9ee5-8442ea0f991b",
   "metadata": {},
   "outputs": [],
   "source": [
    "cited_to_index = {}\n",
    "index_to_cited = {}\n",
    "for i, cited_work in enumerate(cited_works):\n",
    "    cited_to_index[cited_work] = i\n",
    "    index_to_cited[i] = cited_work"
   ]
  },
  {
   "cell_type": "markdown",
   "id": "e3b81153-4b73-4e48-b9fe-3a2d509d814a",
   "metadata": {},
   "source": [
    "Create a sparse matrix of cited references"
   ]
  },
  {
   "cell_type": "code",
   "execution_count": 9,
   "id": "e934b662-afe3-4705-90ea-c6f397053696",
   "metadata": {},
   "outputs": [],
   "source": [
    "from scipy.sparse import csr_matrix\n",
    "\n",
    "rows = []\n",
    "cols = []\n",
    "data = []\n",
    "\n",
    "for i, pub in enumerate(publications):\n",
    "    for cited_work in pub['referenced_works']:\n",
    "        j = cited_to_index[cited_work]\n",
    "        rows.append(i)\n",
    "        cols.append(j)\n",
    "        data.append(1)        \n",
    "\n",
    "ref_matrix = csr_matrix((data, (rows, cols)), shape=(num_docs, len(cited_to_index)))        "
   ]
  },
  {
   "cell_type": "markdown",
   "id": "313957dd-814d-4501-9c0f-1beef1da6445",
   "metadata": {},
   "source": [
    "Use cosine similarity to calculate bibliographic coupling between publications"
   ]
  },
  {
   "cell_type": "code",
   "execution_count": 11,
   "id": "07e28d0a-1c56-4a61-8cda-e17a8365d8c0",
   "metadata": {},
   "outputs": [],
   "source": [
    "from sklearn.metrics.pairwise import cosine_similarity\n",
    "\n",
    "sim = cosine_similarity(ref_matrix, ref_matrix, dense_output=False)"
   ]
  },
  {
   "cell_type": "markdown",
   "id": "1b828d00-cf57-49a1-9966-da9f3b11fa6a",
   "metadata": {},
   "source": [
    "# Run Leiden Algorithm \n",
    "Use the leiden algorithm to determine publication clusters.\n",
    "\n",
    "The python implementation uses the Igraph library so we must extract the data in the correct format - edge_list and weight_list\n",
    "\n",
    "We can ignore edges with cosine similarity < 0.1 as they will just increase the computational time without any benefit to quality"
   ]
  },
  {
   "cell_type": "code",
   "execution_count": 12,
   "id": "91f91e0c-9971-490d-9f02-f6691c321a6c",
   "metadata": {},
   "outputs": [
    {
     "name": "stderr",
     "output_type": "stream",
     "text": [
      "100%|████████████████████████████████████████████████████████████████████████████████████████████████████████████████████████████████████████████████████| 131759/131759 [00:01<00:00, 91888.12it/s]"
     ]
    },
    {
     "name": "stdout",
     "output_type": "stream",
     "text": [
      "CPU times: user 1.51 s, sys: 56.3 ms, total: 1.57 s\n",
      "Wall time: 1.56 s\n"
     ]
    },
    {
     "name": "stderr",
     "output_type": "stream",
     "text": [
      "\n"
     ]
    }
   ],
   "source": [
    "%%time\n",
    "edge_list = []\n",
    "weight_list = []\n",
    "th = 0.1\n",
    "rows,cols = (sim > th).nonzero()\n",
    "for i,j in tqdm(zip(rows,cols), total=len(rows)):\n",
    "    if i < j:\n",
    "        edge_list.append((i, j))\n",
    "        weight_list.append(sim[i,j])"
   ]
  },
  {
   "cell_type": "code",
   "execution_count": 13,
   "id": "f8b1b09c-ca7a-4526-8cd9-9b50560d0a9f",
   "metadata": {},
   "outputs": [],
   "source": [
    "import igraph as ig\n",
    "graph = ig.Graph(edge_list, edge_attrs={\"weight\": weight_list})"
   ]
  },
  {
   "cell_type": "markdown",
   "id": "c3a2b5b2-dd27-4bf9-9324-c3629fbe695f",
   "metadata": {},
   "source": [
    "Run the leiden algorithm "
   ]
  },
  {
   "cell_type": "code",
   "execution_count": 14,
   "id": "a549572d-24e6-416b-a3d1-f6e358dead36",
   "metadata": {},
   "outputs": [],
   "source": [
    "partition = leidenalg.find_partition(\n",
    "    graph,\n",
    "    leidenalg.CPMVertexPartition,\n",
    "    resolution_parameter=0.001,\n",
    "    n_iterations=5,\n",
    "    weights='weight',\n",
    "    seed=42,\n",
    ")"
   ]
  },
  {
   "cell_type": "markdown",
   "id": "b58f342c-8696-403e-9035-1b24f3f7786c",
   "metadata": {},
   "source": [
    "Populate a dict mapping doc_ids to leiden clusters.\n",
    "\n",
    "Any publication assigned to a cluster with size < 50 are excluded.\n",
    "\n",
    "Keep track of all publications that are clustered.\n",
    "\n",
    "Also, sum the weights of concepts assigned to each publication in a cluster so we can make labels"
   ]
  },
  {
   "cell_type": "code",
   "execution_count": 15,
   "id": "9e3bcc8f-a95d-42e5-8ece-401b0c1dc8d4",
   "metadata": {},
   "outputs": [],
   "source": [
    "leiden_clusters = {}\n",
    "clustered_ids = set()\n",
    "cluster_concept_weight = defaultdict(lambda: defaultdict(float))\n",
    "\n",
    "for c, cluster_list in enumerate(partition):\n",
    "    if len(cluster_list) < 50:\n",
    "        c = -1\n",
    "    else:\n",
    "        for doc_id in cluster_list:\n",
    "            leiden_clusters[doc_id] = c\n",
    "            clustered_ids.add(doc_id)\n",
    "            for concept in publications[doc_id]['concepts']:\n",
    "                cluster_concept_weight[c][concept['display_name']] += 1"
   ]
  },
  {
   "cell_type": "code",
   "execution_count": 16,
   "id": "6fe3133b-1021-44d9-ba68-6d9aa6588d3c",
   "metadata": {},
   "outputs": [
    {
     "data": {
      "text/plain": [
       "0\n",
       "0     853\n",
       "1     735\n",
       "2     322\n",
       "3     159\n",
       "4     145\n",
       "5     125\n",
       "6     123\n",
       "7      72\n",
       "8      71\n",
       "9      68\n",
       "10     66\n",
       "11     64\n",
       "12     62\n",
       "13     57\n",
       "14     53\n",
       "15     51\n",
       "16     50\n",
       "dtype: int64"
      ]
     },
     "execution_count": 16,
     "metadata": {},
     "output_type": "execute_result"
    }
   ],
   "source": [
    "# show sizes of the largest clusters\n",
    "df_cluster_sizes = pd.DataFrame.from_dict(leiden_clusters, orient='index').groupby(0).size()\n",
    "df_cluster_sizes"
   ]
  },
  {
   "cell_type": "markdown",
   "id": "76512d29-795f-479b-8b7d-1d2267a2e294",
   "metadata": {},
   "source": [
    "Calculate an indicative label based on the top 10 most frequently assigned concepts. \n",
    "\n",
    "Filter out concepts ['Dengue fever', 'Dengue virus'] as they feature in all clusters"
   ]
  },
  {
   "cell_type": "code",
   "execution_count": 30,
   "id": "6050918e-dd50-431e-830e-b813451a7788",
   "metadata": {},
   "outputs": [
    {
     "name": "stdout",
     "output_type": "stream",
     "text": [
      "0\t[n=853] Medicine [76%] | Virology [40%] | Outbreak [23%] | Pediatrics [22%] | Internal medicine [21%]\n",
      "1\t[n=735] Medicine [54%] | Virology [44%] | Outbreak [30%] | Aedes aegypti [30%] | Biology [26%]\n",
      "2\t[n=322] Medicine [79%] | Pediatrics [33%] | Virology [32%] | Internal medicine [23%] | Dermatology [22%]\n",
      "3\t[n=159] Virology [51%] | Basic reproduction number [49%] | Transmission (telecommunications) [42%] | Medicine [38%] | Computer science [33%]\n",
      "4\t[n=145] Geography [66%] | Outbreak [46%] | Medicine [41%] | Aedes aegypti [40%] | Environmental health [32%]\n",
      "5\t[n=125] Medicine [65%] | Public health [47%] | Environmental health [46%] | Aedes aegypti [42%] | Socioeconomics [28%]\n",
      "6\t[n=123] Zika virus [75%] | Virology [73%] | Medicine [67%] | Flavivirus [51%] | Virus [49%]\n",
      "7\t[n=72] Medicine [65%] | Dengue hemorrhagic fever [42%] | Aedes aegypti [35%] | Geography [25%] | Virology [21%]\n",
      "8\t[n=71] Virology [51%] | Outbreak [45%] | Chikungunya [45%] | Medicine [42%] | Aedes aegypti [35%]\n",
      "9\t[n=68] Medicine [76%] | Internal medicine [40%] | Virology [29%] | Dengue hemorrhagic fever [19%] | Epidemiology [18%]\n",
      "10\t[n=66] Medicine [70%] | Internal medicine [27%] | Dengue hemorrhagic fever [17%] | Aedes aegypti [17%] | Coronavirus disease 2019 (COVID-19) [15%]\n",
      "11\t[n=64] Medicine [58%] | Virology [44%] | Internal medicine [36%] | Immunology [36%] | Biology [31%]\n",
      "12\t[n=62] Medicine [77%] | Virology [40%] | Internal medicine [39%] | Pediatrics [23%] | Immunology [16%]\n",
      "13\t[n=57] Medicine [91%] | Pediatrics [46%] | Pregnancy [32%] | Virology [28%] | Obstetrics [25%]\n",
      "14\t[n=53] Virology [85%] | Biology [83%] | Virus [79%] | Flavivirus [53%] | Viral replication [34%]\n",
      "15\t[n=51] Medicine [45%] | Computer science [43%] | Outbreak [31%] | Dengue hemorrhagic fever [27%] | Artificial intelligence [25%]\n",
      "16\t[n=50] Biology [96%] | Aedes aegypti [94%] | Aedes [58%] | Veterinary medicine [56%] | Aedes albopictus [54%]\n"
     ]
    }
   ],
   "source": [
    "cluster_labels = []\n",
    "filter_list = ['Dengue fever', 'Dengue virus']\n",
    "for cluster in df_cluster_sizes.index:\n",
    "    idf_weights = [\n",
    "        (concept, \n",
    "         (cluster_concept_weight[cluster][concept] / df_cluster_sizes.loc[cluster]) * 100\n",
    "        )\n",
    "        for concept in cluster_concept_weight[cluster]\n",
    "        if cluster_concept_weight[cluster][concept] > 0 and concept not in filter_list\n",
    "    ]\n",
    "    label = \" | \".join([\"{} [{:.0f}%]\".format(concept, weight) for concept, weight in sorted(idf_weights, key=lambda x: x[1], reverse=True)[:5]])\n",
    "    cluster_labels.append(label)\n",
    "\n",
    "for i, label in enumerate(cluster_labels):\n",
    "    print(\"{}\\t[n={:,}] {}\".format(i, df_cluster_sizes[i], label))"
   ]
  },
  {
   "cell_type": "markdown",
   "id": "ebabfeb3-f921-4636-9efe-8bf748a52bc1",
   "metadata": {},
   "source": [
    "If you ignore concepts relating specifically to dengue fever, you can get a sense of what certain clusters might be focussed on.\n",
    "\n",
    "16 is focussed on the biology of the mosquito\n",
    "\n",
    "4 is more epidemiology focussed\n",
    "\n"
   ]
  },
  {
   "cell_type": "markdown",
   "id": "3e2fc348-95ab-4423-9a66-c8dcdf123d93",
   "metadata": {},
   "source": [
    "Use networkx library to build a network of publications with edges connecting nodes according to bibliographic coupling weight"
   ]
  },
  {
   "cell_type": "code",
   "execution_count": 31,
   "id": "dddae43d-94dd-4c8c-a720-92d3533c0386",
   "metadata": {},
   "outputs": [],
   "source": [
    "import networkx as nx\n",
    "graph = nx.Graph()\n",
    "\n",
    "for doc_id in clustered_ids:\n",
    "    oa_record = publications[doc_id]\n",
    "    leiden_cluster = leiden_clusters[doc_id]\n",
    "\n",
    "    attr = {\n",
    "        'doc_id': doc_id,\n",
    "        'doi': oa_record['doi'],\n",
    "        'title': oa_record['display_name'],\n",
    "        'publication_year': oa_record['publication_year'],\n",
    "        'host_venue_name': oa_record['host_venue']['display_name'],\n",
    "        'type': oa_record['type'],\n",
    "        'cited_by_count': oa_record['cited_by_count'],\n",
    "        'leiden_cluster': leiden_cluster,\n",
    "        'cluster_label': cluster_labels[leiden_cluster],\n",
    "    }\n",
    "    # replace None with '' - gexf export doesn't like None values\n",
    "    for key in ['doi', 'title', 'host_venue_name', 'type']:\n",
    "        if not attr[key]:\n",
    "            attr[key] = ''\n",
    "    graph.add_node(doc_id, **attr)"
   ]
  },
  {
   "cell_type": "code",
   "execution_count": 32,
   "id": "750cd048-7352-46bc-b2c8-eb186ab0512e",
   "metadata": {},
   "outputs": [
    {
     "name": "stderr",
     "output_type": "stream",
     "text": [
      "100%|██████████████████████████████████████████████████████████████████████████████████████████████████████████████████████████████████████████████████████████| 3076/3076 [00:18<00:00, 166.01it/s]\n"
     ]
    }
   ],
   "source": [
    "for i in tqdm(clustered_ids):\n",
    "    for j in sim[i,:].nonzero()[1]:\n",
    "        if i < j and i in clustered_ids and j in clustered_ids and sim[i,j]>th:\n",
    "            graph.add_edge(i,j, weight=sim[i,j])"
   ]
  },
  {
   "cell_type": "code",
   "execution_count": 33,
   "id": "d949f158-de68-48b7-86ea-1c967dbb09b1",
   "metadata": {},
   "outputs": [
    {
     "name": "stdout",
     "output_type": "stream",
     "text": [
      "3076\n",
      "55559\n"
     ]
    }
   ],
   "source": [
    "print(graph.number_of_nodes())\n",
    "print(graph.number_of_edges())"
   ]
  },
  {
   "cell_type": "code",
   "execution_count": 34,
   "id": "44455358-b96a-4ba3-9194-a0c6385f820d",
   "metadata": {},
   "outputs": [],
   "source": [
    "nx.write_gexf(graph, \"./analysis/publication_bc_similarity.gexf\")"
   ]
  },
  {
   "cell_type": "markdown",
   "id": "79ec8d61-09cc-4691-bca8-8ffac4b06cee",
   "metadata": {},
   "source": [
    "Now load the data into Gephi to visualize the data"
   ]
  },
  {
   "cell_type": "code",
   "execution_count": 23,
   "id": "cdb8fff0-871d-43ff-b793-80bee3336e43",
   "metadata": {},
   "outputs": [],
   "source": [
    "# write the cluster labels to a file\n",
    "pd.DataFrame(cluster_labels, columns=['cluster_label']).to_csv(\"./data/leiden_cluster_labels.csv\")"
   ]
  },
  {
   "cell_type": "code",
   "execution_count": 24,
   "id": "10b9025d-530e-4683-b163-27f579701ee1",
   "metadata": {},
   "outputs": [],
   "source": [
    "# write the doc_id -> cluster assigment to file\n",
    "pd.DataFrame.from_dict(leiden_clusters, orient='index', columns=['leiden_cluster']).to_csv(\"./data/leiden_cluster_assignment.csv\")"
   ]
  },
  {
   "cell_type": "code",
   "execution_count": null,
   "id": "7e0a486e-3a02-4d38-a2e7-7ec95024da7d",
   "metadata": {},
   "outputs": [],
   "source": []
  }
 ],
 "metadata": {
  "kernelspec": {
   "display_name": "Python 3 (ipykernel)",
   "language": "python",
   "name": "python3"
  },
  "language_info": {
   "codemirror_mode": {
    "name": "ipython",
    "version": 3
   },
   "file_extension": ".py",
   "mimetype": "text/x-python",
   "name": "python",
   "nbconvert_exporter": "python",
   "pygments_lexer": "ipython3",
   "version": "3.9.8"
  }
 },
 "nbformat": 4,
 "nbformat_minor": 5
}
