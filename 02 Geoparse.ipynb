{
 "cells": [
  {
   "cell_type": "code",
   "execution_count": 1,
   "id": "3447649c-a733-4c55-a2c2-767474d7eb81",
   "metadata": {},
   "outputs": [],
   "source": [
    "import requests\n",
    "import pandas as pd\n",
    "import numpy as np\n",
    "import jsonlines\n",
    "import time\n",
    "from tqdm import tqdm\n",
    "from collections import defaultdict"
   ]
  },
  {
   "cell_type": "markdown",
   "id": "682a548b-72ff-4987-9907-13216866ce78",
   "metadata": {},
   "source": [
    "# Load Publication Data from jsonlines file"
   ]
  },
  {
   "cell_type": "code",
   "execution_count": 37,
   "id": "62336367-7ffd-40dd-b8d4-38042bc85a08",
   "metadata": {},
   "outputs": [],
   "source": [
    "publications = []\n",
    "with jsonlines.open(\"./data/openalex_publications.jsonl\") as f_in:\n",
    "    for pub in f_in:\n",
    "        publications.append(pub)\n"
   ]
  },
  {
   "cell_type": "code",
   "execution_count": 38,
   "id": "a4648ad9-b620-40e7-8dd5-57c1afacce8f",
   "metadata": {},
   "outputs": [
    {
     "data": {
      "text/plain": [
       "12706"
      ]
     },
     "execution_count": 38,
     "metadata": {},
     "output_type": "execute_result"
    }
   ],
   "source": [
    "num_docs = len(publications)\n",
    "num_docs"
   ]
  },
  {
   "cell_type": "markdown",
   "id": "8f2c4c9e-f19e-4196-9caa-d8bc90e31050",
   "metadata": {},
   "source": [
    "# Extract Title and Abstract Text from publication records"
   ]
  },
  {
   "cell_type": "code",
   "execution_count": 39,
   "id": "27c721aa-c72f-4f22-bb28-16f26443a26f",
   "metadata": {},
   "outputs": [],
   "source": [
    "texts = []\n",
    "\n",
    "for pub in publications:\n",
    "    title = pub['display_name']\n",
    "    abstract_text = None\n",
    "    \n",
    "    # we have to reconstitute the abstract text based on tokens and positions\n",
    "    if pub.get('abstract_inverted_index'):\n",
    "        position_tokens = {}\n",
    "        for token in pub['abstract_inverted_index']:\n",
    "            for position in pub['abstract_inverted_index'][token]:\n",
    "                position_tokens[position] = token\n",
    "        abstract_text_elems = []\n",
    "        for i in range(min(position_tokens.keys()), max(position_tokens.keys())+1):\n",
    "            if i in position_tokens:\n",
    "                abstract_text_elems.append(position_tokens[i])\n",
    "            else:\n",
    "                # sometimes tokens are omitted, just continue\n",
    "                continue\n",
    "        abstract_text = \" \".join(abstract_text_elems)\n",
    "        \n",
    "    # Not all publications have abstracts, just use title in this case\n",
    "    if abstract_text:\n",
    "        texts.append(\"{} {}\".format(title, abstract_text))\n",
    "    else:\n",
    "        texts.append(title)"
   ]
  },
  {
   "cell_type": "markdown",
   "id": "dbb3cfd2-486a-4d79-ae28-b07e2cb0c12d",
   "metadata": {},
   "source": [
    "# Geoparse texts\n",
    "Use the Edinburgh Geoparser to find locations mentioned in the title & abstract.\n",
    "\n",
    "See [https://www.ltg.ed.ac.uk/software/geoparser/](https://www.ltg.ed.ac.uk/software/geoparser/)\n",
    "\n",
    "You must download the package and place in the working directory in a folder called geoparser-1.2 (or update the code in the cell below to locate the binary)"
   ]
  },
  {
   "cell_type": "code",
   "execution_count": 40,
   "id": "1ff6e0ff-80d3-418d-bab5-5aa815b5827c",
   "metadata": {},
   "outputs": [],
   "source": [
    "# use a dictionary to store results so we can easily resume in case of error or restart\n",
    "geo_records = defaultdict(list)"
   ]
  },
  {
   "cell_type": "markdown",
   "id": "ad5e2229-2c3d-4110-89c2-37fd3ab2b35a",
   "metadata": {},
   "source": [
    "Warning - This code will take about 5-6 hours to run over the sample dataset!"
   ]
  },
  {
   "cell_type": "code",
   "execution_count": 48,
   "id": "d4bcb40a-2c36-4826-adc2-367956192f55",
   "metadata": {},
   "outputs": [
    {
     "name": "stderr",
     "output_type": "stream",
     "text": [
      "100%|███████████████████████████████████████████████████████████████████████████████████████████████████████████████████████████████████████████████████████| 12706/12706 [4:58:50<00:00,  1.41s/it]\n"
     ]
    }
   ],
   "source": [
    "import subprocess\n",
    "from lxml import etree\n",
    "\n",
    "for doc_id in tqdm(range(0, num_docs)):\n",
    "    if doc_id in geo_records:\n",
    "        # already processed, continue\n",
    "        continue\n",
    "\n",
    "    text = texts[doc_id]\n",
    "\n",
    "    r = subprocess.run(['./geoparser-1.2/scripts/run','-t', 'plain', '-g', 'geonames'], capture_output=True, input=text.encode('utf-8'))\n",
    "    xml_data = r.stdout\n",
    "\n",
    "    if xml_data:\n",
    "        tree = etree.fromstring(xml_data)    \n",
    "        word_map = {}\n",
    "        word_order = []\n",
    "        for w_elem in tree.xpath(\"//text/p/s/w\"):\n",
    "            wid = w_elem.get('id')\n",
    "            word = w_elem.text\n",
    "            word_map[wid] = word\n",
    "            word_order.append(wid)     \n",
    "\n",
    "        for ent_elem in tree.xpath(\".//ents[@source='ner-rb']/ent[@type='location']\"):\n",
    "            gazref = ent_elem.get('gazref')\n",
    "            in_country = ent_elem.get('in-country')\n",
    "            population = ent_elem.get('pop-size')\n",
    "            parts = ent_elem.xpath(\"./parts/part/text()\")\n",
    "            start = ent_elem.xpath(\"./parts/part/@sw\")[0]\n",
    "            end = ent_elem.xpath(\"./parts/part/@ew\")[0]\n",
    "            s_i = word_order.index(start)\n",
    "            e_i = word_order.index(end)\n",
    "            surrounding_words = word_order[s_i-10:s_i+10]\n",
    "            frag = \" \".join([word_map[wid] for wid in surrounding_words])\n",
    "\n",
    "            geo_records[doc_id].append({\n",
    "                'title': publications[doc_id]['display_name'],\n",
    "                'gazref': gazref,\n",
    "                'population': population,\n",
    "                'in_country': in_country,\n",
    "                'match': \" \".join(parts),\n",
    "                'fragment': frag,\n",
    "            })\n",
    "        \n",
    "    if doc_id not in geo_records:\n",
    "        geo_records[doc_id] = []"
   ]
  },
  {
   "cell_type": "code",
   "execution_count": 57,
   "id": "5e2b9fac-573d-4af0-b71b-cfd2363ca9f9",
   "metadata": {},
   "outputs": [],
   "source": [
    "# write to file using csv library, faster than converting into dataframe then writing\n",
    "import csv\n",
    "\n",
    "with open(\"./data/geoparsing.csv\", \"w\") as f_out:\n",
    "    fieldnames = ['doc_id', 'title', 'gazref', 'population', 'in_country', 'match', 'fragment']\n",
    "    writer = csv.DictWriter(f_out, fieldnames=fieldnames)\n",
    "    writer.writeheader()\n",
    "    \n",
    "    for doc_id in geo_records:\n",
    "        for record in geo_records[doc_id]:\n",
    "            record['doc_id'] = doc_id\n",
    "            writer.writerow(record)"
   ]
  },
  {
   "cell_type": "code",
   "execution_count": 58,
   "id": "77455d6c-c45f-4519-843b-46782833832a",
   "metadata": {},
   "outputs": [
    {
     "data": {
      "text/html": [
       "<div>\n",
       "<style scoped>\n",
       "    .dataframe tbody tr th:only-of-type {\n",
       "        vertical-align: middle;\n",
       "    }\n",
       "\n",
       "    .dataframe tbody tr th {\n",
       "        vertical-align: top;\n",
       "    }\n",
       "\n",
       "    .dataframe thead th {\n",
       "        text-align: right;\n",
       "    }\n",
       "</style>\n",
       "<table border=\"1\" class=\"dataframe\">\n",
       "  <thead>\n",
       "    <tr style=\"text-align: right;\">\n",
       "      <th></th>\n",
       "      <th>doc_id</th>\n",
       "      <th>title</th>\n",
       "      <th>gazref</th>\n",
       "      <th>population</th>\n",
       "      <th>in_country</th>\n",
       "      <th>match</th>\n",
       "      <th>fragment</th>\n",
       "    </tr>\n",
       "  </thead>\n",
       "  <tbody>\n",
       "    <tr>\n",
       "      <th>0</th>\n",
       "      <td>0</td>\n",
       "      <td>A fractional calculus based model for the simu...</td>\n",
       "      <td>geonames:3374766</td>\n",
       "      <td>4.182240e+05</td>\n",
       "      <td>CV</td>\n",
       "      <td>Cape Verde</td>\n",
       "      <td>statistics from the 2009 outbreak of the disea...</td>\n",
       "    </tr>\n",
       "    <tr>\n",
       "      <th>1</th>\n",
       "      <td>1</td>\n",
       "      <td>Autochthonous Dengue Fever, Tokyo, Japan, 2014</td>\n",
       "      <td>geonames:1850147</td>\n",
       "      <td>8.336599e+06</td>\n",
       "      <td>JP</td>\n",
       "      <td>Tokyo</td>\n",
       "      <td>NaN</td>\n",
       "    </tr>\n",
       "    <tr>\n",
       "      <th>2</th>\n",
       "      <td>1</td>\n",
       "      <td>Autochthonous Dengue Fever, Tokyo, Japan, 2014</td>\n",
       "      <td>geonames:1861060</td>\n",
       "      <td>1.274172e+08</td>\n",
       "      <td>JP</td>\n",
       "      <td>Japan</td>\n",
       "      <td>NaN</td>\n",
       "    </tr>\n",
       "    <tr>\n",
       "      <th>3</th>\n",
       "      <td>1</td>\n",
       "      <td>Autochthonous Dengue Fever, Tokyo, Japan, 2014</td>\n",
       "      <td>geonames:1861060</td>\n",
       "      <td>1.274172e+08</td>\n",
       "      <td>JP</td>\n",
       "      <td>Japan</td>\n",
       "      <td>years with no confirmed autochthonous cases of...</td>\n",
       "    </tr>\n",
       "    <tr>\n",
       "      <th>4</th>\n",
       "      <td>1</td>\n",
       "      <td>Autochthonous Dengue Fever, Tokyo, Japan, 2014</td>\n",
       "      <td>geonames:1861060</td>\n",
       "      <td>1.274172e+08</td>\n",
       "      <td>JP</td>\n",
       "      <td>Japan</td>\n",
       "      <td>the strain from the first patient ( 2014 ) in ...</td>\n",
       "    </tr>\n",
       "    <tr>\n",
       "      <th>5</th>\n",
       "      <td>3</td>\n",
       "      <td>A new fractional modelling and control strateg...</td>\n",
       "      <td>geonames:3374766</td>\n",
       "      <td>NaN</td>\n",
       "      <td>CV</td>\n",
       "      <td>Cape Verde Islands</td>\n",
       "      <td>are proved . According to a real outbreak on t...</td>\n",
       "    </tr>\n",
       "    <tr>\n",
       "      <th>6</th>\n",
       "      <td>5</td>\n",
       "      <td>Dengue Fever: Causes, Complications, and Vacci...</td>\n",
       "      <td>geonames:3996063</td>\n",
       "      <td>1.062029e+08</td>\n",
       "      <td>MX</td>\n",
       "      <td>Mexico</td>\n",
       "      <td>'s chimeric live-attenuated dengue vaccine can...</td>\n",
       "    </tr>\n",
       "    <tr>\n",
       "      <th>7</th>\n",
       "      <td>5</td>\n",
       "      <td>Dengue Fever: Causes, Complications, and Vacci...</td>\n",
       "      <td>geonames:3469034</td>\n",
       "      <td>1.861128e+08</td>\n",
       "      <td>BR</td>\n",
       "      <td>Brazil</td>\n",
       "      <td>live-attenuated dengue vaccine candidate has b...</td>\n",
       "    </tr>\n",
       "    <tr>\n",
       "      <th>8</th>\n",
       "      <td>5</td>\n",
       "      <td>Dengue Fever: Causes, Complications, and Vacci...</td>\n",
       "      <td>geonames:1694008</td>\n",
       "      <td>8.785747e+07</td>\n",
       "      <td>PH</td>\n",
       "      <td>Philippines</td>\n",
       "      <td>candidate has been approved in Mexico , Brazil...</td>\n",
       "    </tr>\n",
       "    <tr>\n",
       "      <th>9</th>\n",
       "      <td>8</td>\n",
       "      <td>Dengue fever in China</td>\n",
       "      <td>geonames:1814991</td>\n",
       "      <td>1.306314e+09</td>\n",
       "      <td>CN</td>\n",
       "      <td>China</td>\n",
       "      <td>Dengue fever in China</td>\n",
       "    </tr>\n",
       "  </tbody>\n",
       "</table>\n",
       "</div>"
      ],
      "text/plain": [
       "   doc_id                                              title  \\\n",
       "0       0  A fractional calculus based model for the simu...   \n",
       "1       1     Autochthonous Dengue Fever, Tokyo, Japan, 2014   \n",
       "2       1     Autochthonous Dengue Fever, Tokyo, Japan, 2014   \n",
       "3       1     Autochthonous Dengue Fever, Tokyo, Japan, 2014   \n",
       "4       1     Autochthonous Dengue Fever, Tokyo, Japan, 2014   \n",
       "5       3  A new fractional modelling and control strateg...   \n",
       "6       5  Dengue Fever: Causes, Complications, and Vacci...   \n",
       "7       5  Dengue Fever: Causes, Complications, and Vacci...   \n",
       "8       5  Dengue Fever: Causes, Complications, and Vacci...   \n",
       "9       8                              Dengue fever in China   \n",
       "\n",
       "             gazref    population in_country               match  \\\n",
       "0  geonames:3374766  4.182240e+05         CV          Cape Verde   \n",
       "1  geonames:1850147  8.336599e+06         JP               Tokyo   \n",
       "2  geonames:1861060  1.274172e+08         JP               Japan   \n",
       "3  geonames:1861060  1.274172e+08         JP               Japan   \n",
       "4  geonames:1861060  1.274172e+08         JP               Japan   \n",
       "5  geonames:3374766           NaN         CV  Cape Verde Islands   \n",
       "6  geonames:3996063  1.062029e+08         MX              Mexico   \n",
       "7  geonames:3469034  1.861128e+08         BR              Brazil   \n",
       "8  geonames:1694008  8.785747e+07         PH         Philippines   \n",
       "9  geonames:1814991  1.306314e+09         CN               China   \n",
       "\n",
       "                                            fragment  \n",
       "0  statistics from the 2009 outbreak of the disea...  \n",
       "1                                                NaN  \n",
       "2                                                NaN  \n",
       "3  years with no confirmed autochthonous cases of...  \n",
       "4  the strain from the first patient ( 2014 ) in ...  \n",
       "5  are proved . According to a real outbreak on t...  \n",
       "6  's chimeric live-attenuated dengue vaccine can...  \n",
       "7  live-attenuated dengue vaccine candidate has b...  \n",
       "8  candidate has been approved in Mexico , Brazil...  \n",
       "9                              Dengue fever in China  "
      ]
     },
     "execution_count": 58,
     "metadata": {},
     "output_type": "execute_result"
    }
   ],
   "source": [
    "pd.read_csv(\"./data/geoparsing.csv\").head(10)"
   ]
  },
  {
   "cell_type": "markdown",
   "id": "9933ad5f-d372-46d9-9a64-9379fde001a6",
   "metadata": {},
   "source": [
    "For the best results, curate the exported file and remove false positives. The fragment column will give you a clue as to whether a correct match was made."
   ]
  }
 ],
 "metadata": {
  "kernelspec": {
   "display_name": "Python 3 (ipykernel)",
   "language": "python",
   "name": "python3"
  },
  "language_info": {
   "codemirror_mode": {
    "name": "ipython",
    "version": 3
   },
   "file_extension": ".py",
   "mimetype": "text/x-python",
   "name": "python",
   "nbconvert_exporter": "python",
   "pygments_lexer": "ipython3",
   "version": "3.9.8"
  }
 },
 "nbformat": 4,
 "nbformat_minor": 5
}
