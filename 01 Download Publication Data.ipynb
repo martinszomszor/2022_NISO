{
 "cells": [
  {
   "cell_type": "code",
   "execution_count": 1,
   "id": "43b290ce-4f6e-4279-84d0-369f20cbcf0a",
   "metadata": {},
   "outputs": [],
   "source": [
    "import os\n",
    "import requests\n",
    "import pandas as pd\n",
    "import numpy as np\n",
    "import time\n",
    "import jsonlines\n",
    "from tqdm import tqdm\n",
    "from collections import defaultdict"
   ]
  },
  {
   "cell_type": "markdown",
   "id": "ee94aa64-f925-481b-9dc0-a0130c25a87a",
   "metadata": {},
   "source": [
    "# Download Publications\n",
    "This notebook will use the OpenAlex API to fetch publication metadata relating to the query string below.\n",
    "\n",
    "Filter on publication year >= 2012"
   ]
  },
  {
   "cell_type": "code",
   "execution_count": 2,
   "id": "d6ceaad6-f943-4442-b2cb-e4ca32d38dd1",
   "metadata": {},
   "outputs": [],
   "source": [
    "query = \"Dengue Fever\""
   ]
  },
  {
   "cell_type": "code",
   "execution_count": 3,
   "id": "c51f2f93-76a0-42c9-8789-b9b3580aeff6",
   "metadata": {},
   "outputs": [
    {
     "name": "stderr",
     "output_type": "stream",
     "text": [
      "100%|███████████████████████████████████████████████████████████████████████████████████████████████████████████████████████████████████████████████████████████████| 63/63 [01:53<00:00,  1.80s/it]\n"
     ]
    }
   ],
   "source": [
    "# fetch search results in batches of 200 using the cursor feature\n",
    "\n",
    "page = 1\n",
    "per_page = 200\n",
    "cursor = \"*\"\n",
    "\n",
    "url = \"https://api.openalex.org/works\".format(page)\n",
    "headers = {\n",
    "    'User-Agent': 'mailto:martin@electricdata.solutions'\n",
    "}\n",
    "\n",
    "# fill articles with json records for search results\n",
    "articles = []\n",
    "\n",
    "# manually specify tqdm progress bar so we can update the total after first api response\n",
    "pbar = tqdm()\n",
    "while True:\n",
    "    params = {\n",
    "        'per-page': per_page,\n",
    "        'search': query,\n",
    "        'filter': 'from_publication_date:2012-01-01',\n",
    "        'cursor': cursor,\n",
    "    }\n",
    "    result = requests.get(url, params=params, headers=headers)\n",
    "    if result.status_code == 200:\n",
    "        data = result.json()\n",
    "        record_count = data['meta']['count']\n",
    "        articles += data['results']\n",
    "        results_count = len(data['results'])        \n",
    "        cursor = data['meta']['next_cursor']\n",
    "        \n",
    "        # if this is the first result, set the pbar total to number of pages\n",
    "        if page == 1:\n",
    "            pbar.total = round(data['meta']['count'] / per_page)\n",
    "            pbar.refresh()\n",
    "        \n",
    "        if results_count < per_page:\n",
    "            # finished\n",
    "            break        \n",
    "    else:\n",
    "        print(\"Error fetching page {}\".format(page))\n",
    "    pbar.update(1)         \n",
    "    page += 1\n",
    "    \n",
    "    # courtesy wait of 100 milliseconds\n",
    "    time.sleep(0.1)\n",
    "pbar.close()        "
   ]
  },
  {
   "cell_type": "markdown",
   "id": "61d39b31-8e95-482b-aec6-8e9a6cce38a7",
   "metadata": {},
   "source": [
    "Write publication to json lines file"
   ]
  },
  {
   "cell_type": "code",
   "execution_count": 4,
   "id": "c73d95e0-eedf-47a5-aad5-d0df71c97add",
   "metadata": {},
   "outputs": [],
   "source": [
    "with jsonlines.open(\"./data/openalex_publications.jsonl\", mode='w') as f_out:\n",
    "    for article in articles:\n",
    "        f_out.write(article)"
   ]
  },
  {
   "cell_type": "code",
   "execution_count": null,
   "id": "3710c27a-d056-4e14-aa7f-ef0a4afc9833",
   "metadata": {},
   "outputs": [],
   "source": []
  }
 ],
 "metadata": {
  "kernelspec": {
   "display_name": "Python 3 (ipykernel)",
   "language": "python",
   "name": "python3"
  },
  "language_info": {
   "codemirror_mode": {
    "name": "ipython",
    "version": 3
   },
   "file_extension": ".py",
   "mimetype": "text/x-python",
   "name": "python",
   "nbconvert_exporter": "python",
   "pygments_lexer": "ipython3",
   "version": "3.9.8"
  }
 },
 "nbformat": 4,
 "nbformat_minor": 5
}
